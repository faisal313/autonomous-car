{
 "cells": [
  {
   "cell_type": "markdown",
   "metadata": {},
   "source": [
    "# Minor: Autonomous-Driving Car\n",
    "\n",
    "    \n",
    "### Method for Data Generation\n",
    "\n",
    "- records images from center, left, and right cameras with associated steering angle, speed, throttle and brake. \n",
    "- saves to CSV\n",
    "\n",
    "\n",
    "## Training Mode - Behavioral cloning\n",
    "\n",
    "We use a 9 layer convolutional network\n",
    "\n",
    "#### Hardware design:\n",
    "\n",
    "- 3 cameras\n",
    "-  The steering command is obtained by tapping arrow keys of the keyboard\n",
    "\n",
    "\n",
    "#### Software Design (Supervised Machine Learning!) :\n",
    "\n",
    "\n",
    "Images are fed into a CNN that then computes a proposed steering command. The proposed command is compared to the desired command for that image, and the weights of the CNN are adjusted to bring the CNN output closer to the desired output. The weight adjustment is accomplished using back propagation\n",
    "\n",
    "Eventually, it generates steering commands perfectly.\n",
    "\n",
    "\n",
    "## Testing mode\n",
    "\n",
    "We will just run autonomous mode, then run our model and the car will start driving\n",
    "\n",
    "### Our Project Consists of 3 Main Files:\n",
    "    drive.py -> used to test model\n",
    "    model.py -> used to train model\n",
    "    utils.py -> used to perform data preprocessing\n",
    "\n",
    "### THANK YOU!\n",
    "\n",
    "#### From:  Mohammad Faisal Khan & Nurul Amin Khan"
   ]
  },
  {
   "cell_type": "code",
   "execution_count": null,
   "metadata": {},
   "outputs": [],
   "source": []
  }
 ],
 "metadata": {
  "kernelspec": {
   "display_name": "Python 3",
   "language": "python",
   "name": "python3"
  },
  "language_info": {
   "codemirror_mode": {
    "name": "ipython",
    "version": 3
   },
   "file_extension": ".py",
   "mimetype": "text/x-python",
   "name": "python",
   "nbconvert_exporter": "python",
   "pygments_lexer": "ipython3",
   "version": "3.7.1"
  },
  "widgets": {
   "state": {},
   "version": "1.1.2"
  }
 },
 "nbformat": 4,
 "nbformat_minor": 2
}
